{
 "cells": [
  {
   "cell_type": "markdown",
   "id": "d3de2b10",
   "metadata": {},
   "source": [
    "Revisar la info detallada de la base de datos"
   ]
  },
  {
   "cell_type": "code",
   "execution_count": 1,
   "id": "b6c885d3",
   "metadata": {},
   "outputs": [],
   "source": [
    "import pandas as pd\n",
    "import numpy as np\n"
   ]
  },
  {
   "cell_type": "code",
   "execution_count": 10,
   "id": "09842d0b",
   "metadata": {},
   "outputs": [],
   "source": [
    "df= pd.read_csv('prueba 2.csv')"
   ]
  },
  {
   "cell_type": "code",
   "execution_count": 16,
   "id": "2d0a7be2",
   "metadata": {},
   "outputs": [],
   "source": [
    "df['tamaño']= df['contenido'].astype(str).apply(len)\n",
    "df['validación'] = np.where(df['tamaño'] < 1000, False,True )"
   ]
  },
  {
   "cell_type": "code",
   "execution_count": 17,
   "id": "d5fa0db9",
   "metadata": {},
   "outputs": [],
   "source": [
    "df['soberania'] = df['contenido'].str.contains(r'sobera', case=False, na=False)\n"
   ]
  },
  {
   "cell_type": "code",
   "execution_count": 6,
   "id": "e8437701",
   "metadata": {},
   "outputs": [],
   "source": [
    "df['soberania'] = df['contenido'].str.contains(r'sober*?aliment|aliment*?sober', case=False, na=False)"
   ]
  },
  {
   "cell_type": "code",
   "execution_count": 20,
   "id": "80057f8d",
   "metadata": {},
   "outputs": [
    {
     "name": "stdout",
     "output_type": "stream",
     "text": [
      "     Unnamed: 0                                           búsqueda  \\\n",
      "113         113  ESPECIALIZACIÓN EN SALUD AMBIENTAL UNIVERSIDAD...   \n",
      "\n",
      "                                                  link  \\\n",
      "113  https://www.udea.edu.co/wps/portal/udea/web/in...   \n",
      "\n",
      "                                             contenido  tamaño  soberania  \\\n",
      "113  Idiomas   \\n                language\\n        ...    1655       True   \n",
      "\n",
      "     validación  \n",
      "113        True  \n"
     ]
    }
   ],
   "source": [
    "print(df[df['soberania'] == True])\n"
   ]
  }
 ],
 "metadata": {
  "kernelspec": {
   "display_name": "Python 3",
   "language": "python",
   "name": "python3"
  },
  "language_info": {
   "codemirror_mode": {
    "name": "ipython",
    "version": 3
   },
   "file_extension": ".py",
   "mimetype": "text/x-python",
   "name": "python",
   "nbconvert_exporter": "python",
   "pygments_lexer": "ipython3",
   "version": "3.9.13"
  }
 },
 "nbformat": 4,
 "nbformat_minor": 5
}
