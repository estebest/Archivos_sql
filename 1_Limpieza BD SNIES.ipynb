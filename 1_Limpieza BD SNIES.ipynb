{
 "cells": [
  {
   "cell_type": "markdown",
   "id": "2728ee2b",
   "metadata": {},
   "source": [
    "Carga de librerías"
   ]
  },
  {
   "cell_type": "code",
   "execution_count": 1,
   "id": "2c7fb2f0",
   "metadata": {},
   "outputs": [],
   "source": [
    "import pandas as pd\n",
    "import numpy as np\n",
    "import selenium\n",
    "import openpyxl\n",
    "\n"
   ]
  },
  {
   "cell_type": "markdown",
   "id": "ee203f48",
   "metadata": {},
   "source": [
    "Mapeo de las universidades\n",
    "\n",
    "En esta primera parte se hace una revisión de la base de datos y se filtra teniendo en cuenta los primeros parámetros"
   ]
  },
  {
   "cell_type": "code",
   "execution_count": 2,
   "id": "dd3e4bf9",
   "metadata": {},
   "outputs": [
    {
     "name": "stderr",
     "output_type": "stream",
     "text": [
      "c:\\Users\\Esteban\\AppData\\Local\\Programs\\Python\\Python39\\lib\\site-packages\\openpyxl\\styles\\stylesheet.py:226: UserWarning: Workbook contains no default style, apply openpyxl's default\n",
      "  warn(\"Workbook contains no default style, apply openpyxl's default\")\n"
     ]
    },
    {
     "data": {
      "text/plain": [
       "(30096, 39)"
      ]
     },
     "execution_count": 2,
     "metadata": {},
     "output_type": "execute_result"
    }
   ],
   "source": [
    "SNIES = pd.read_excel(\"Programas_SNIES.xlsx\", sheet_name='Programas', engine='openpyxl')\n",
    "SNIES.shape\n"
   ]
  },
  {
   "cell_type": "code",
   "execution_count": 3,
   "id": "ef123d4b",
   "metadata": {},
   "outputs": [],
   "source": [
    "SNIES = SNIES[['CÓDIGO_INSTITUCIÓN',\n",
    "              'NOMBRE_INSTITUCIÓN',\n",
    "              'ESTADO_INSTITUCIÓN', \n",
    "              'CARÁCTER_ACADÉMICO',\n",
    "              'DEPARTAMENTO_OFERTA_PROGRAMA',\n",
    "              'MUNICIPIO_OFERTA_PROGRAMA',\n",
    "              'NOMBRE_DEL_PROGRAMA',\n",
    "              'CINE_F_2013_AC_CAMPO_AMPLIO',\n",
    "              'CINE_F_2013_AC_CAMPO_ESPECÍFIC', \n",
    "              'CINE_F_2013_AC_CAMPO_DETALLADO',\n",
    "              'ÁREA_DE_CONOCIMIENTO', \n",
    "              'NÚCLEO_BÁSICO_DEL_CONOCIMIENTO',\n",
    "              'NIVEL_ACADÉMICO', \n",
    "              'NIVEL_DE_FORMACIÓN', \n",
    "              'MODALIDAD', \n",
    "              'NÚMERO_CRÉDITOS'\n",
    "              ]]"
   ]
  },
  {
   "cell_type": "code",
   "execution_count": 4,
   "id": "1914d658",
   "metadata": {},
   "outputs": [
    {
     "data": {
      "text/plain": [
       "(2653, 16)"
      ]
     },
     "execution_count": 4,
     "metadata": {},
     "output_type": "execute_result"
    }
   ],
   "source": [
    "SNIES = SNIES.dropna()\n",
    "SNIES_filtro = SNIES[SNIES['ÁREA_DE_CONOCIMIENTO'].str.contains ('salud|ambien|natural')]\n",
    "SNIES_filtro.shape"
   ]
  },
  {
   "cell_type": "code",
   "execution_count": 5,
   "id": "4c625825",
   "metadata": {},
   "outputs": [
    {
     "data": {
      "text/plain": [
       "(720, 16)"
      ]
     },
     "execution_count": 5,
     "metadata": {},
     "output_type": "execute_result"
    }
   ],
   "source": [
    "SNIES_filtro = SNIES[SNIES['CINE_F_2013_AC_CAMPO_ESPECÍFIC'].str.contains ('salud|ambien|biol|natural')]\n",
    "SNIES_filtro.shape"
   ]
  },
  {
   "cell_type": "markdown",
   "id": "0bc21ecd",
   "metadata": {},
   "source": [
    "Mapeo por región de cada programa"
   ]
  },
  {
   "cell_type": "code",
   "execution_count": 6,
   "id": "2ba373f7",
   "metadata": {},
   "outputs": [],
   "source": [
    "#Parámetros de las regiones\n",
    "\n",
    "regiones = pd.DataFrame()\n",
    "regiones[\"Departamento\"]= SNIES_filtro[\"DEPARTAMENTO_OFERTA_PROGRAMA\"].unique()\n",
    "\n",
    "Andina = ['Antioquia','Boyacá','Caldas','Cundinamarca','Bogotá, D.C.','Norte de Santander','Quindío','Risaralda','Santander','Tolima','Huila']\n",
    "Amazonia= ['Amazonas','Caquetá','Guaviare','Putumayo','Guainía']\n",
    "Pacifica = ['Valle del Cauca','Chocó','Cauca','Nariño']\n",
    "Caribe= ['Atlántico','Bolívar','Cesar','Córdoba','La Guajira','Magdalena', 'Sucre', 'Archipiélago de San Andrés, Providencia y Santa Catalina']\n",
    "Orinoquia = ['Arauca','Casanare','Meta','Vichada']\n"
   ]
  },
  {
   "cell_type": "code",
   "execution_count": 7,
   "id": "d690ce50",
   "metadata": {},
   "outputs": [],
   "source": [
    "regiones.loc[regiones['Departamento'].isin(Andina), 'Region'] = 'Andina'\n",
    "regiones.loc[regiones['Departamento'].isin(Caribe), 'Region'] = 'Caribe'\n",
    "regiones.loc[regiones['Departamento'].isin(Pacifica), 'Region'] = 'Pacífica'\n",
    "regiones.loc[regiones['Departamento'].isin(Orinoquia), 'Region'] = 'Orinoquía'\n",
    "regiones.loc[regiones['Departamento'].isin(Amazonia), 'Region'] = 'Amazonía'\n"
   ]
  },
  {
   "cell_type": "code",
   "execution_count": 8,
   "id": "5b40de23",
   "metadata": {},
   "outputs": [
    {
     "name": "stderr",
     "output_type": "stream",
     "text": [
      "C:\\Users\\Esteban\\AppData\\Local\\Temp\\ipykernel_16956\\1474682012.py:1: SettingWithCopyWarning: \n",
      "A value is trying to be set on a copy of a slice from a DataFrame.\n",
      "Try using .loc[row_indexer,col_indexer] = value instead\n",
      "\n",
      "See the caveats in the documentation: https://pandas.pydata.org/pandas-docs/stable/user_guide/indexing.html#returning-a-view-versus-a-copy\n",
      "  SNIES_filtro.loc[SNIES_filtro['DEPARTAMENTO_OFERTA_PROGRAMA'].isin(Andina), 'Region'] = 'Andina'\n"
     ]
    }
   ],
   "source": [
    "SNIES_filtro.loc[SNIES_filtro['DEPARTAMENTO_OFERTA_PROGRAMA'].isin(Andina), 'Region'] = 'Andina'\n",
    "SNIES_filtro.loc[SNIES_filtro['DEPARTAMENTO_OFERTA_PROGRAMA'].isin(Caribe), 'Region'] = 'Caribe'\n",
    "SNIES_filtro.loc[SNIES_filtro['DEPARTAMENTO_OFERTA_PROGRAMA'].isin(Pacifica), 'Region'] = 'Pacífica'\n",
    "SNIES_filtro.loc[SNIES_filtro['DEPARTAMENTO_OFERTA_PROGRAMA'].isin(Orinoquia), 'Region'] = 'Orinoquía'\n",
    "SNIES_filtro.loc[SNIES_filtro['DEPARTAMENTO_OFERTA_PROGRAMA'].isin(Amazonia), 'Region'] = 'Amazonía'"
   ]
  },
  {
   "cell_type": "code",
   "execution_count": 9,
   "id": "6f720cc0",
   "metadata": {},
   "outputs": [
    {
     "name": "stderr",
     "output_type": "stream",
     "text": [
      "C:\\Users\\Esteban\\AppData\\Local\\Temp\\ipykernel_16956\\3849025174.py:1: SettingWithCopyWarning: \n",
      "A value is trying to be set on a copy of a slice from a DataFrame.\n",
      "Try using .loc[row_indexer,col_indexer] = value instead\n",
      "\n",
      "See the caveats in the documentation: https://pandas.pydata.org/pandas-docs/stable/user_guide/indexing.html#returning-a-view-versus-a-copy\n",
      "  SNIES_filtro['Concat'] = SNIES_filtro['NOMBRE_DEL_PROGRAMA'] + ' ' + SNIES_filtro['NOMBRE_INSTITUCIÓN']\n"
     ]
    }
   ],
   "source": [
    "SNIES_filtro['Concat'] = SNIES_filtro['NOMBRE_DEL_PROGRAMA'] + ' ' + SNIES_filtro['NOMBRE_INSTITUCIÓN']"
   ]
  },
  {
   "cell_type": "code",
   "execution_count": null,
   "id": "6a13ee40",
   "metadata": {},
   "outputs": [],
   "source": [
    "SNIES_filtro.to_excel(\"SNIES_filtrado.xlsx\")"
   ]
  },
  {
   "cell_type": "markdown",
   "id": "5efd4f86",
   "metadata": {},
   "source": [
    "Web scrapping\n",
    "\n",
    "Desde acá recopilo toda la información dentro de las respectivas páginas web"
   ]
  }
 ],
 "metadata": {
  "kernelspec": {
   "display_name": "Python 3",
   "language": "python",
   "name": "python3"
  },
  "language_info": {
   "codemirror_mode": {
    "name": "ipython",
    "version": 3
   },
   "file_extension": ".py",
   "mimetype": "text/x-python",
   "name": "python",
   "nbconvert_exporter": "python",
   "pygments_lexer": "ipython3",
   "version": "3.9.13"
  }
 },
 "nbformat": 4,
 "nbformat_minor": 5
}
