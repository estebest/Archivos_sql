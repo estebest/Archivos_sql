{
 "cells": [
  {
   "cell_type": "markdown",
   "id": "d3de2b10",
   "metadata": {},
   "source": [
    "Revisar la info detallada de la base de datos"
   ]
  },
  {
   "cell_type": "code",
   "execution_count": null,
   "id": "b6c885d3",
   "metadata": {},
   "outputs": [],
   "source": [
    "import pandas as pd\n",
    "import numpy as np\n"
   ]
  }
 ],
 "metadata": {
  "kernelspec": {
   "display_name": "Python 3",
   "language": "python",
   "name": "python3"
  },
  "language_info": {
   "codemirror_mode": {
    "name": "ipython",
    "version": 3
   },
   "file_extension": ".py",
   "mimetype": "text/x-python",
   "name": "python",
   "nbconvert_exporter": "python",
   "pygments_lexer": "ipython3",
   "version": "3.9.13"
  }
 },
 "nbformat": 4,
 "nbformat_minor": 5
}
