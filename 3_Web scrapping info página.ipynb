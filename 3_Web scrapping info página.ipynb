{
 "cells": [
  {
   "cell_type": "markdown",
   "id": "03c7c249",
   "metadata": {},
   "source": [
    "Importar librerias"
   ]
  },
  {
   "cell_type": "code",
   "execution_count": 1,
   "id": "d76e9287",
   "metadata": {},
   "outputs": [],
   "source": [
    "import pandas as pd\n",
    "import numpy as np\n",
    "from bs4 import BeautifulSoup\n",
    "\n"
   ]
  },
  {
   "cell_type": "markdown",
   "id": "d1d2b41a",
   "metadata": {},
   "source": [
    "Web scraper para descargar la información que está dentro de la página web"
   ]
  },
  {
   "cell_type": "code",
   "execution_count": 26,
   "id": "b495c9fa",
   "metadata": {},
   "outputs": [],
   "source": [
    "import requests\n",
    "\n",
    "def extraer_todo_texto_visible(url):\n",
    "    try:\n",
    "        headers = {\n",
    "            'User-Agent': 'Mozilla/5.0 (Windows NT 10.0; Win64; x64)'\n",
    "        }\n",
    "\n",
    "        # Obtener contenido de la página\n",
    "        response = requests.get(url, headers=headers, timeout=10)\n",
    "        response.raise_for_status()\n",
    "\n",
    "        # Parsear el HTML\n",
    "        soup = BeautifulSoup(response.content, 'lxml')\n",
    "\n",
    "        # Eliminar etiquetas no visibles\n",
    "        for tag in soup(['script', 'style', 'noscript', 'header', 'footer', 'meta', 'link', 'nav', 'form']):\n",
    "            tag.decompose()\n",
    "\n",
    "        # Extraer el texto visible\n",
    "        texto = soup.get_text(separator=' ', strip=True)\n",
    "\n",
    "        # Limpiar múltiples espacios\n",
    "        texto = ' '.join(texto.split())\n",
    "\n",
    "        return texto\n",
    "    except Exception as e:\n",
    "        return f\"Error: {e}\"\n"
   ]
  },
  {
   "cell_type": "markdown",
   "id": "7d5420c2",
   "metadata": {},
   "source": [
    "Base de datos para ejecturar la función"
   ]
  },
  {
   "cell_type": "code",
   "execution_count": 28,
   "id": "90a165b2",
   "metadata": {},
   "outputs": [],
   "source": [
    "df = pd.read_excel('Links_google.xlsx')"
   ]
  },
  {
   "cell_type": "code",
   "execution_count": 29,
   "id": "c5db984e",
   "metadata": {},
   "outputs": [],
   "source": [
    "df['contenido'] = df['link'].apply(extraer_contenido)\n"
   ]
  },
  {
   "cell_type": "code",
   "execution_count": 30,
   "id": "71171cc0",
   "metadata": {},
   "outputs": [],
   "source": [
    "df.to_csv('prueba 2.csv')"
   ]
  }
 ],
 "metadata": {
  "kernelspec": {
   "display_name": "Python 3",
   "language": "python",
   "name": "python3"
  },
  "language_info": {
   "codemirror_mode": {
    "name": "ipython",
    "version": 3
   },
   "file_extension": ".py",
   "mimetype": "text/x-python",
   "name": "python",
   "nbconvert_exporter": "python",
   "pygments_lexer": "ipython3",
   "version": "3.9.13"
  }
 },
 "nbformat": 4,
 "nbformat_minor": 5
}
