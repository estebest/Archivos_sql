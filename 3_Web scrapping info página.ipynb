{
 "cells": [
  {
   "cell_type": "markdown",
   "id": "03c7c249",
   "metadata": {},
   "source": [
    "Importar librerias"
   ]
  },
  {
   "cell_type": "code",
   "execution_count": 1,
   "id": "d76e9287",
   "metadata": {},
   "outputs": [],
   "source": [
    "import pandas as pd\n",
    "import numpy as np\n",
    "from bs4 import BeautifulSoup\n",
    "\n"
   ]
  },
  {
   "cell_type": "markdown",
   "id": "d1d2b41a",
   "metadata": {},
   "source": [
    "Web scraper para descargar la información que está dentro de la página web"
   ]
  },
  {
   "cell_type": "code",
   "execution_count": 2,
   "id": "b495c9fa",
   "metadata": {},
   "outputs": [],
   "source": [
    "import requests\n",
    "\n",
    "def extraer_contenido(url):\n",
    "    if pd.isna(url):\n",
    "        return None\n",
    "    try:\n",
    "        # Realizar la solicitud HTTP\n",
    "        response = requests.get(url, timeout=10)\n",
    "        response.raise_for_status()\n",
    "        \n",
    "        # Parsear el contenido HTML de la página\n",
    "        soup = BeautifulSoup(response.content, \"lxml\")\n",
    "        \n",
    "        # Eliminar los elementos no visibles (scripts, estilos, etc.)\n",
    "        for script_or_style in soup(['script', 'style']):\n",
    "            script_or_style.decompose()\n",
    "        \n",
    "        # Extraer todo el texto visible\n",
    "        texto = soup.get_text(separator=\" \", strip=True)  # separa con espacio y limpia espacios\n",
    "        \n",
    "        return texto  # Devuelve el texto completo y limpio\n",
    "    except Exception as e:\n",
    "        return f\"Error: {e}\""
   ]
  },
  {
   "cell_type": "markdown",
   "id": "7d5420c2",
   "metadata": {},
   "source": [
    "Base de datos para ejecturar la función"
   ]
  },
  {
   "cell_type": "code",
   "execution_count": 3,
   "id": "90a165b2",
   "metadata": {},
   "outputs": [],
   "source": [
    "df = pd.read_excel('Links_google.xlsx')"
   ]
  },
  {
   "cell_type": "code",
   "execution_count": 4,
   "id": "c5db984e",
   "metadata": {},
   "outputs": [],
   "source": [
    "df['contenido'] = df['link'].apply(extraer_contenido)\n"
   ]
  },
  {
   "cell_type": "code",
   "execution_count": 5,
   "id": "71171cc0",
   "metadata": {},
   "outputs": [],
   "source": [
    "df.to_csv('prueba 2.csv')"
   ]
  }
 ],
 "metadata": {
  "kernelspec": {
   "display_name": "Python 3",
   "language": "python",
   "name": "python3"
  },
  "language_info": {
   "codemirror_mode": {
    "name": "ipython",
    "version": 3
   },
   "file_extension": ".py",
   "mimetype": "text/x-python",
   "name": "python",
   "nbconvert_exporter": "python",
   "pygments_lexer": "ipython3",
   "version": "3.9.13"
  }
 },
 "nbformat": 4,
 "nbformat_minor": 5
}
